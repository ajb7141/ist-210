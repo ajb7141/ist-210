{
  "nbformat": 4,
  "nbformat_minor": 0,
  "metadata": {
    "colab": {
      "name": "Group Assignment 1.ipynb",
      "provenance": [],
      "collapsed_sections": [],
      "include_colab_link": true
    },
    "kernelspec": {
      "name": "python3",
      "display_name": "Python 3"
    }
  },
  "cells": [
    {
      "cell_type": "markdown",
      "metadata": {
        "id": "view-in-github",
        "colab_type": "text"
      },
      "source": [
        "<a href=\"https://colab.research.google.com/github/nzp126/ist-210/blob/master/Group_Assignment_1.ipynb\" target=\"_parent\"><img src=\"https://colab.research.google.com/assets/colab-badge.svg\" alt=\"Open In Colab\"/></a>"
      ]
    },
    {
      "cell_type": "markdown",
      "metadata": {
        "id": "bba1OwWljqVx",
        "colab_type": "text"
      },
      "source": [
        "Music - How many people are listening/genre/amount of plays\n",
        "\n",
        "For our music idea, we are going to analyze the spotify database and understand who is the most popular artist and why. Our idea is unique in the fact that all of our information is going to stem from the Spotify and Apple Music databases. These databases are relatively new and have a strong base in terms of following. Spotify also stores information based on how many people have listened to the songs and if you wanted you could also correlate the amount of listeners to how much the musicians are making. We would be comparing and looking at all of the genres and how many people are listening to each one respectively. If you were making this into a business, a normal day would look like observing what music people are listening to and putting them into genres, albums, and playlists so users could enjoy. One business transaction that would be help would be to purchase \"premium\" or \"plus\" status within the application and for that we would need a name, phone-number, and address, so those could all be \"transactions\" that could be recorded for future use. Our main goal is to appeal to customers to make sure they like the music that is recommended to them, then offer a premium service that would get rid of ads and give you infinite skips and choice to pick and choose your own albums. This has been done before but what we would do differently is actively try to find music that the user would enjoy and display that for them every time they used the app. \n",
        "\n"
      ]
    },
    {
      "cell_type": "markdown",
      "metadata": {
        "id": "mIpT8T3Th0wX",
        "colab_type": "text"
      },
      "source": [
        "Game Store - Game Name, Price, Genre, Console, ESRB Rating, release date \n",
        "\n",
        "For our game store idea, we want to create a database for videogames being sold by a game store. We are interested in understanding the features and attributes of games that people want. Our idea is unique because it takes previously known data about video game products and adds further details about products to help consumers learn about the item they are interested in. This database would be based on information already known from game stores like \"GameStop\" but further qualifies and identifies different products to inform consumers about the products. When purchasing a game, a typical consumer would most likely want to know about the product they are purchasing. A consumer would most likely want to know information such as the rating, price, genre, etc. to help them make an informed purchase of a game. Our tables in the database would include game name, price, genre, console, and ESRB rating. Under game name we would include the current most popular selling titles. Under price we would include the prices of varying games being sold, being that certain games cost more or less based on condition or since release date. In genre, we would include popular game genres such as first person shooter, adventure, horror, single player/multiplayer, etc. Then for console we would include the consoles that the game is available for such as Xbox, Playstation, Nintendo, PC, etc. Lastly for rating, we would include the ESRB rating of the game, such as E, T, and M. Our goal of this database is to help customers make an informed decision about purhcasing a game based on the information given in our tables (Game name, price, genre, console, ESRB rating).\n",
        "\n"
      ]
    },
    {
      "cell_type": "markdown",
      "metadata": {
        "id": "ERb71j5ckuFP",
        "colab_type": "text"
      },
      "source": [
        "Car dealership - The idea is to create a database for all cars sold by a used car dealership in State College. We are trying to understand the features that customers are interested in. Our idea will expand to understand the buyer’s purchasing decision behavior, so the business become more profitable and efficient. The database can be analyzed for marketing purposes; for example, advertisements can be direct to the targeted demographic. Also, the data can be beneficial for developing more profitable models in the future. What makes our data unique that it is collected at a micro-level by the car dealer instead of the manufacture which gives it the advantage of recording detailed data such as how many times the customer visited before making the final purchase. Car dealerships usually open from 9 am to 7 or 9 pm, and customer walk shopping for cars available. Some customer shop for cars online before coming to the deal to inspect the car. Once the customer selects a car, the salesman will explain the financing options to finalize the deal by signing paperwork.  All in all, the data will give a better understanding of used car dealership business. Here are someof the data that can be collected: 1) count of cars sold 2) make 3) model 4) color 5) new or used 6) customer a) age b) gender c) ethnicity 7) size 8) how long it took the car to be sold. 9) deal sittings (what day the car was sold, and what time of the year) 10) salesman 11) payment method."
      ]
    },
    {
      "cell_type": "markdown",
      "metadata": {
        "id": "wNJ1ddPWHKHc",
        "colab_type": "text"
      },
      "source": [
        "Car dealer – \n",
        "The idea is to create a database for all cars sold by a used car dealership in State College. We are trying to analyze the used car business, such as understanding the features that customers are interested in and what cars are easier to sell. Our idea will expand to understand the buyer’s purchasing decision behavior, so the business becomes more profitable and efficient. The database can be analyzed for marketing purposes; for example, advertisements can be direct to the targeted demographic. Also, the data can be sold to cars manufacturers’, so they can develop more profitable models in the future. \n",
        "\n",
        "Car sales data are collected by the manufacturer mostly for new cars since they do not benefit from the sale of used cars, and this type of data is hardly shared. What makes our data unique that it is collected at a micro-level by the car dealer instead of the manufacture. Detailed data is an advantage because it provides connections between different trends such as how many times the customer visited the dealership before making the final purchase. \n",
        "\n",
        "All of our data will be collected from an existing used car dealership in State College. Car dealerships usually open from 9 am to 7 or 9 pm, and customer walk shopping for cars available. Some customer shop for cars online before coming to the dealer to inspect the car. Once the customer selects a car, the salesman will explain the financing options to finalize the deal by signing paperwork. Data should be collected from the beginning once the customer walks to the dealer or browse the website. We can record the screening time on certain models, and what model’s customer spend more time researching. Ordinary data, such as the count of cars sold, make, model and color can be easily collected at the final step of the purchase. Also, information from old paperwork can be entered manually into the database, so we can have more accurate data. Customers can be asked to fill a survey after the final sale is done in exchange for a small discount or any kind of incentive. A survey are a good option for any data that is hard to be collected without the customer answering lengthy questions. For example, did the customer visited different car dealers? Or what are the most attractive features in the car?. Some of the data should be filled after the sale is done by the salesmen regarding information like how many times the customer visited the dealership. It is also important to work on making the data recording process automated without any employee as much as possible because it is time-consuming. \n",
        "\n",
        "Database design is a complex step, but it is a necessary process. it is important to store the data in one place, so all employees from the different department can have access. This allows employees to apply available information in improving their department.  After collecting, analyzing, and understanding the data, the dealer should use the data to make the business more efficient and successful. All in all, the data will give a better understanding of the used car dealership business."
      ]
    }
  ]
}