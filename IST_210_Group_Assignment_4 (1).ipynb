{
  "nbformat": 4,
  "nbformat_minor": 0,
  "metadata": {
    "colab": {
      "name": "IST 210 - Group Assignment 4",
      "provenance": [],
      "collapsed_sections": []
    },
    "kernelspec": {
      "name": "python3",
      "display_name": "Python 3"
    }
  },
  "cells": [
    {
      "cell_type": "markdown",
      "metadata": {
        "id": "bwlP0nr8a_yy",
        "colab_type": "text"
      },
      "source": [
        "![alt text](https://raw.githubusercontent.com/ajb7141/ist-210/master/5%20Tables-Dealership%20(2).png\n",
        ")"
      ]
    },
    {
      "cell_type": "code",
      "metadata": {
        "id": "pmOyiKi2z2N2",
        "colab_type": "code",
        "colab": {}
      },
      "source": [
        "import sqlite3\n",
        "connectionToDatabase = sqlite3.connect('CarDatabase') \n",
        "\n",
        "cursor = connectionToDatabase.cursor()\n",
        "\n",
        "cursor.execute('''drop table IF EXISTS Car''')\n",
        "connectionToDatabase.commit()\n",
        "\n",
        "cursor.execute('''create table Car (fips text PRIMARY KEY, Price int, Make text, Miles int, Color text)''')\n",
        "connectionToDatabase.commit()\n",
        "\n",
        "\n",
        "cursor.execute('''insert into Car values ('2T3DK4DV8CW082696' ,'15000', 'Ford', '60000', 'Red' );''')\n",
        "connectionToDatabase.commit()\n",
        "cursor.execute('''insert into Car values ('JH4KA4670LC010014' ,'23000', 'BMW', '30000', 'Black' );''')\n",
        "connectionToDatabase.commit()\n",
        "cursor.execute('''insert into Car values ('JH4DB1570MS001469' ,'12500', 'Jeep', '90000', 'Black' );''')\n",
        "connectionToDatabase.commit()\n",
        "cursor.execute('''insert into Car values ('WBAKF9C52BE619303' ,'17000', 'Mercedes', '70000', 'White' );''')\n",
        "connectionToDatabase.commit()\n",
        "cursor.execute('''insert into Car values ('1GCCT14R0H2164173' ,'20000', 'Subaru', '45000', 'Blue' );''')\n",
        "connectionToDatabase.commit()"
      ],
      "execution_count": 0,
      "outputs": []
    },
    {
      "cell_type": "code",
      "metadata": {
        "id": "ZRTnKDL0ezdV",
        "colab_type": "code",
        "colab": {}
      },
      "source": [
        "cursor.execute('''drop table IF EXISTS Maintenance''')\n",
        "connectionToDatabase.commit()\n",
        "\n",
        "cursor.execute('''create table Maintenance (MaintenanceID text PRIMARY KEY, Firstname text, Lastname text, Date text, car text)''')\n",
        "connectionToDatabase.commit()\n",
        "\n",
        "\n",
        "cursor.execute('''insert into Maintenance values ('345673' ,'John', 'smaith', '2018-02-22', '2T3DK4DV8CW082696' );''')\n",
        "connectionToDatabase.commit()\n",
        "cursor.execute('''insert into Maintenance values ('123473' ,'John', 'jennifer', '2019-12-22', 'JH4KA4670LC010014' );''')\n",
        "connectionToDatabase.commit()\n",
        "cursor.execute('''insert into Maintenance values ('567573' ,'Sam', 'macfrin', '2018-02-15', 'JH4DB1570MS001469' );''')\n",
        "connectionToDatabase.commit()\n",
        "cursor.execute('''insert into Maintenance values ('946873' ,'John', 'macdell', '2017-12-12', 'WBAKF9C52BE619303' );''')\n",
        "connectionToDatabase.commit()\n",
        "cursor.execute('''insert into Maintenance values ('475373' ,'Sam', 'Subarulios', '2019-12-12', '1GCCT14R0H2164173' );''')\n",
        "connectionToDatabase.commit()"
      ],
      "execution_count": 0,
      "outputs": []
    },
    {
      "cell_type": "code",
      "metadata": {
        "id": "x0s-LddIbkP8",
        "colab_type": "code",
        "colab": {}
      },
      "source": [
        "cursor.execute('''drop table IF EXISTS Transactions''')\n",
        "connectionToDatabase.commit()\n",
        "\n",
        "cursor.execute('''create table Transactions (TransactionID text PRIMARY KEY, salesmen text, Car text, date text, customer text)''')\n",
        "connectionToDatabase.commit()\n",
        "\n",
        "\n",
        "cursor.execute('''insert into Transactions values ('3456' ,'2T3DK4DV8CW082696', 'Ford', '2019-01-22', '34567' );''')\n",
        "connectionToDatabase.commit()\n",
        "cursor.execute('''insert into Transactions values ('1234' ,'JH4KA4670LC010014', 'BMW', '2019-09-25', '12347' );''')\n",
        "connectionToDatabase.commit()\n",
        "cursor.execute('''insert into Transactions values ('5675' ,'JH4DB1570MS001469', 'Jeep', '2019-09-17', '56757' );''')\n",
        "connectionToDatabase.commit()\n",
        "cursor.execute('''insert into Transactions values ('9468' ,'WBAKF9C52BE619303', 'Mercedes', '2018-05-12', '94687' );''')\n",
        "connectionToDatabase.commit()\n",
        "cursor.execute('''insert into Transactions values ('4753' ,'1GCCT14R0H2164173', 'Subaru', '2019-08-15', '47537' );''')\n",
        "connectionToDatabase.commit()"
      ],
      "execution_count": 0,
      "outputs": []
    },
    {
      "cell_type": "code",
      "metadata": {
        "id": "R669IA1pd83N",
        "colab_type": "code",
        "colab": {}
      },
      "source": [
        "cursor.execute('''drop table IF EXISTS Customres''')\n",
        "connectionToDatabase.commit()\n",
        "\n",
        "cursor.execute('''create table Customres (CustomerID text PRIMARY KEY, Firstname text, Lastname text, Phonenumber text, email text)''')\n",
        "connectionToDatabase.commit()\n",
        "\n",
        "\n",
        "cursor.execute('''insert into Customres values ('34567' ,'Ali', 'smaith', '8148269956', 'john@gmai.com' );''')\n",
        "connectionToDatabase.commit()\n",
        "cursor.execute('''insert into Customres values ('12347' ,'Eli', 'jennifer', '8145769325', 'john@gmail.com' );''')\n",
        "connectionToDatabase.commit()\n",
        "cursor.execute('''insert into Customres values ('56757' ,'Kayle', 'macfrin', '8145749325', 'sam@gmail.com' );''')\n",
        "connectionToDatabase.commit()\n",
        "cursor.execute('''insert into Customres values ('94687' ,'Mark', 'macdell', '8145214785', 'macdall@gmail.com' );''')\n",
        "connectionToDatabase.commit()\n",
        "cursor.execute('''insert into Customres values ('47537' ,'Sam', 'Subarulios', '8145784215', 'Samx@gmail.com' );''')\n",
        "connectionToDatabase.commit()"
      ],
      "execution_count": 0,
      "outputs": []
    },
    {
      "cell_type": "code",
      "metadata": {
        "id": "xB8O6oBPgz3d",
        "colab_type": "code",
        "colab": {}
      },
      "source": [
        "cursor.execute('''drop table IF EXISTS Location''')\n",
        "connectionToDatabase.commit()\n",
        "\n",
        "cursor.execute('''create table Location (LotID text PRIMARY KEY, Lotsize text, state text, city text, car text)''')\n",
        "connectionToDatabase.commit()\n",
        "\n",
        "\n",
        "cursor.execute('''insert into Location values ('3456731' ,'12', 'PA', 'State College', '2T3DK4DV8CW082696' );''')\n",
        "connectionToDatabase.commit()\n",
        "cursor.execute('''insert into Location values ('1234731' ,'12', 'PA', 'State College', 'JH4KA4670LC010014' );''')\n",
        "connectionToDatabase.commit()\n",
        "cursor.execute('''insert into Location values ('5675731' ,'12', 'PA', 'State College', 'JH4DB1570MS001469' );''')\n",
        "connectionToDatabase.commit()\n",
        "cursor.execute('''insert into Location values ('9468731' ,'12', 'PA', 'State College', 'WBAKF9C52BE619303' );''')\n",
        "connectionToDatabase.commit()\n",
        "cursor.execute('''insert into Location values ('4753731' ,'12', 'PA', 'State College', '1GCCT14R0H2164173' );''')\n",
        "connectionToDatabase.commit()"
      ],
      "execution_count": 0,
      "outputs": []
    },
    {
      "cell_type": "markdown",
      "metadata": {
        "id": "SCx13hS3--wA",
        "colab_type": "text"
      },
      "source": [
        "Qustion 1\n",
        "\n",
        "What was the average cost of cars sold?\n",
        "\n",
        "This question is important because it gives the car dealership a better understanding of the sold cars' price average. The car dealership can increase efficiency by accuireing cars with in the average price of the most cars sold, so he can make sure to specilies certin cars segment that bring most revenue. The results matches our expectation because it is simmiler the to average selling price of used cars in the US which is $20,000 according to Statista."
      ]
    },
    {
      "cell_type": "code",
      "metadata": {
        "id": "exu4DDYhTE3E",
        "colab_type": "code",
        "outputId": "78f509f0-7556-4f60-ef40-ce7113f65d8d",
        "colab": {
          "base_uri": "https://localhost:8080/",
          "height": 34
        }
      },
      "source": [
        "cursor.execute('''select AVG(Price) From Car''')\n",
        "for row in cursor.fetchall():\n",
        "  print (row)"
      ],
      "execution_count": 21,
      "outputs": [
        {
          "output_type": "stream",
          "text": [
            "(17500.0,)\n"
          ],
          "name": "stdout"
        }
      ]
    },
    {
      "cell_type": "markdown",
      "metadata": {
        "id": "hWN95RyiWZ_8",
        "colab_type": "text"
      },
      "source": [
        "Qustion 2\n",
        "\n",
        "what is the most expensive car sold?\n",
        "\n",
        "This Qustion is importnat for the owner of the car dealership to know, so he can keep track that employees do not take a risky investment and acuire an expensive car, and he can mke sure that cars in his lot with his expectaion. the results matches or expectaions and logical becaus it is close to the average price of cars sold. \n"
      ]
    },
    {
      "cell_type": "code",
      "metadata": {
        "id": "6Fk7Ry-8ZmBE",
        "colab_type": "code",
        "outputId": "335b5ebd-f4fd-473e-8616-ae3709a987a3",
        "colab": {
          "base_uri": "https://localhost:8080/",
          "height": 34
        }
      },
      "source": [
        "cursor.execute('''select * from Car ORDER BY price DESC Limit 1''')\n",
        "for row in cursor.fetchall():\n",
        "  print (row)"
      ],
      "execution_count": 22,
      "outputs": [
        {
          "output_type": "stream",
          "text": [
            "('JH4KA4670LC010014', 23000, 'BMW', 30000, 'Black')\n"
          ],
          "name": "stdout"
        }
      ]
    },
    {
      "cell_type": "markdown",
      "metadata": {
        "id": "v-sxIGjkbcTV",
        "colab_type": "text"
      },
      "source": [
        "Qustion 3\n",
        "\n",
        "What cars needed maintenance before being sold?\n",
        "\n",
        "This question is important because it allows us to know whether or not a vehicle needs maintenance before being sold. This question will provide information towards the person purchasing the vehicle and lets them know the status of their vehicle as well. Our policy indicats that cars has more the 50,000 miles needs a maintenance before being deliverd to the customer. The results are matches our expectaions."
      ]
    },
    {
      "cell_type": "code",
      "metadata": {
        "id": "jtdc70noZEbF",
        "colab_type": "code",
        "outputId": "80b25757-fca0-4a10-f0b3-6b188bacc304",
        "colab": {
          "base_uri": "https://localhost:8080/",
          "height": 68
        }
      },
      "source": [
        "cursor.execute('''select * from Car valus WHERE Miles > 50000''')\n",
        "for row in cursor.fetchall():\n",
        "  print (row)"
      ],
      "execution_count": 23,
      "outputs": [
        {
          "output_type": "stream",
          "text": [
            "('2T3DK4DV8CW082696', 15000, 'Ford', 60000, 'Red')\n",
            "('JH4DB1570MS001469', 12500, 'Jeep', 90000, 'Black')\n",
            "('WBAKF9C52BE619303', 17000, 'Mercedes', 70000, 'White')\n"
          ],
          "name": "stdout"
        }
      ]
    }
  ]
}