{
  "nbformat": 4,
  "nbformat_minor": 0,
  "metadata": {
    "colab": {
      "name": "Group Assignment 2 - Group 10",
      "provenance": [],
      "collapsed_sections": []
    },
    "kernelspec": {
      "name": "python3",
      "display_name": "Python 3"
    }
  },
  "cells": [
    {
      "cell_type": "markdown",
      "metadata": {
        "id": "Zr_2GbswVOxU",
        "colab_type": "text"
      },
      "source": [
        "For our ER diagram, we used five tables to represent a car dealership in State College. Our five tables are labeled Car, Location, Maintenance, Transaction, and Customer. For our Car table, the primary key is VIN and is followed by the attributes of price, model, miles, color, and 2 foreign keys \"maintenance\" and \"location\". Our second table is Location, in which the primary key is LotID and is followed by the attributes of state, city, zip, and has a foreign key of \"Lot\". The Foreign key \"Lot\" connects in a one to one relationship with the foreign key \"location\" in the Car table. Our third table is Maintenance with a primary key titled MaintenanceID. The attributes for this table are first name, last name, date, and customerID. There is also a foreign key titled \"car\" which connects in a one to one relationship to the \"maintenance\" foreign key in the Car table. Our fourth table is Customer with a primary key of CustomerID. The Customer ID connects in a one to one relationship with the foreign key \"Customer\" from the Transaction table. The attributes of the maintenance table are first name, last name and address. The final table of our ER diagram is the transactions table. The primary key in this table is transactionID. The attributes in this table include salesman, date, total cost, with the foreign keys \"customer\" and \"Car\". The car foreign key has two relationships. There is a one to one relationship made between the foreign key \"Car\" and the primary key \"VIN\" located in the car table. There is a many to one relationship made between the foreign key \"Car\" and the foreign key \"Lot\" in the location table. "
      ]
    },
    {
      "cell_type": "markdown",
      "metadata": {
        "id": "VNU8S6mBiieR",
        "colab_type": "text"
      },
      "source": [
        "![alt text](https://drive.google.com/uc?id=1499Ggl5ZwjG8NCcn8CCaImdV3IBZ7Ja4)"
      ]
    }
  ]
}